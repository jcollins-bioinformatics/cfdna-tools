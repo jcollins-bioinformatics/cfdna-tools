{
 "cells": [
  {
   "cell_type": "code",
   "execution_count": 1,
   "metadata": {
    "collapsed": false
   },
   "outputs": [
    {
     "name": "stderr",
     "output_type": "stream",
     "text": [
      "/Users/Quaesiveris/Python/anaconda2/lib/python2.7/site-packages/matplotlib/font_manager.py:273: UserWarning: Matplotlib is building the font cache using fc-list. This may take a moment.\n",
      "  warnings.warn('Matplotlib is building the font cache using fc-list. This may take a moment.')\n"
     ]
    }
   ],
   "source": [
    "%matplotlib inline\n",
    "# import cfdna_tools as cf\n",
    "import matplotlib\n",
    "import matplotlib.pyplot as plt\n",
    "import numpy as np\n",
    "# import seaborn as sns\n",
    "import sys\n",
    "\n",
    "# sns.set(rc={'axes.facecolor': '#ECECEC'})\n",
    "\n",
    "# matplotlib.rcParams['font.family'] = cf.use_Helvetica()"
   ]
  },
  {
   "cell_type": "code",
   "execution_count": 3,
   "metadata": {
    "collapsed": false,
    "scrolled": true
   },
   "outputs": [
    {
     "data": {
      "image/png": "[encoded data removed]",
      "text/plain": [
       "<matplotlib.figure.Figure at 0x10d4d9950>"
      ]
     },
     "metadata": {},
     "output_type": "display_data"
    },
    {
     "name": "stdout",
     "output_type": "stream",
     "text": [
      "set([46, 48, 50, 51, 52, 53, 54, 55, 56, 57, 58, 59, 60, 61, 62, 63, 64, 65, 66, 67, 68, 69, 70, 71, 72, 73, 74, 75, 76, 77, 78, 79, 80, 81, 82, 83, 84, 85, 86, 87, 88, 89, 90, 91, 92, 93, 94, 95, 96, 97, 98, 99, 100, 101, 102, 103, 104, 105, 106, 107, 108, 109, 110, 111, 112, 113, 114, 115, 116, 117, 118, 119, 120, 121, 122, 123, 124, 125, 126, 127, 128, 129, 130, 131, 132, 133, 134, 135, 136, 139, 140])\n",
      "94\n"
     ]
    }
   ],
   "source": [
    "fig, ax1 = plt.subplots()\n",
    "plt.xlim(40,140)\n",
    "plt.xticks(fontsize=14)\n",
    "plt.yticks(fontsize=12)\n",
    "plt.xlabel(r'Number of SNPs with shared zygosity''\\n'\n",
    "            r\"$from$ $\\{x \\in N : 0 \\leq x \\leq 180 \\},$ $where$ $N=\\{0,1,2,...,266\\}$\", \n",
    "            labelpad=15, fontsize=14)#, fontweight='bold')\n",
    "plt.ylabel(r\"$P(x)$\", labelpad=15, fontsize=18)\n",
    "\n",
    "rand_pois = np.random.poisson(90, 10**6)\n",
    "\n",
    "n, bins, patches = ax1.hist(rand_pois, histtype='bar', normed=True, bins=70, label=\"Poisson\",\n",
    "                            zorder=3, lw=0.5, fc=(0, 0, 0, 0), ec='b', )\n",
    "\n",
    "# plt.gca().set_yscale('log')\n",
    "# plt.ylim(1e-10, 0.5)\n",
    "plt.xlim(0,266)\n",
    "plt.show()\n",
    "\n",
    "print(set(rand_pois))\n",
    "print(max(rand_pois) - min(rand_pois))"
   ]
  },
  {
   "cell_type": "code",
   "execution_count": null,
   "metadata": {
    "collapsed": false
   },
   "outputs": [],
   "source": []
  },
  {
   "cell_type": "code",
   "execution_count": null,
   "metadata": {
    "collapsed": true
   },
   "outputs": [],
   "source": [
    "%%timeit\n",
    "trials = 10**2\n",
    "rand_pois = np.random.poisson(90, trials)"
   ]
  }
 ],
 "metadata": {
  "anaconda-cloud": {},
  "kernelspec": {
   "display_name": "Python [Root]",
   "language": "python",
   "name": "Python [Root]"
  },
  "language_info": {
   "codemirror_mode": {
    "name": "ipython",
    "version": 2
   },
   "file_extension": ".py",
   "mimetype": "text/x-python",
   "name": "python",
   "nbconvert_exporter": "python",
   "pygments_lexer": "ipython2",
   "version": "2.7.12"
  }
 },
 "nbformat": 4,
 "nbformat_minor": 0
}
