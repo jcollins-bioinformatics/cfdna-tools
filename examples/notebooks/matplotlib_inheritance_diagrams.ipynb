{
 "cells": [
  {
   "cell_type": "code",
   "execution_count": 1,
   "metadata": {
    "collapsed": true
   },
   "outputs": [],
   "source": [
    "%matplotlib inline"
   ]
  },
  {
   "cell_type": "code",
   "execution_count": 2,
   "metadata": {
    "collapsed": true
   },
   "outputs": [],
   "source": [
    "from __future__ import division, print_function\n",
    "import matplotlib as mpl\n",
    "import matplotlib.pyplot as plt\n",
    "import matplotlib.mlab as mlab\n",
    "import numpy as np\n",
    "import os\n",
    "import pandas as pd\n",
    "import random\n",
    "import re\n",
    "# import seaborn as sns\n",
    "import sys\n",
    "import timeit\n",
    "from collections import defaultdict\n",
    "from datetime import datetime \n",
    "from math import log, sqrt\n",
    "from matplotlib.backends.backend_pdf import PdfPages\n",
    "from matplotlib.gridspec import GridSpec\n",
    "from matplotlib.font_manager import FontProperties\n",
    "from matplotlib.ticker import FuncFormatter\n",
    "from scipy.stats import binom, norm, poisson"
   ]
  },
  {
   "cell_type": "code",
   "execution_count": null,
   "metadata": {
    "collapsed": true
   },
   "outputs": [],
   "source": []
  },
  {
   "cell_type": "code",
   "execution_count": 3,
   "metadata": {
    "collapsed": false
   },
   "outputs": [
    {
     "ename": "ImportError",
     "evalue": "This example needs Graphviz and either PyGraphviz or PyDotPlus",
     "output_type": "error",
     "traceback": [
      "\u001b[0;31m---------------------------------------------------------------------------\u001b[0m",
      "\u001b[0;31mImportError\u001b[0m                               Traceback (most recent call last)",
      "\u001b[0;32m<ipython-input-3-7287c7ac14cd>\u001b[0m in \u001b[0;36m<module>\u001b[0;34m()\u001b[0m\n\u001b[1;32m     39\u001b[0m             \u001b[0;32mfrom\u001b[0m \u001b[0mnetworkx\u001b[0m\u001b[0;34m.\u001b[0m\u001b[0mdrawing\u001b[0m\u001b[0;34m.\u001b[0m\u001b[0mnx_pydot\u001b[0m \u001b[0;32mimport\u001b[0m \u001b[0mgraphviz_layout\u001b[0m\u001b[0;34m\u001b[0m\u001b[0m\n\u001b[1;32m     40\u001b[0m         \u001b[0;32mexcept\u001b[0m \u001b[0mImportError\u001b[0m\u001b[0;34m:\u001b[0m\u001b[0;34m\u001b[0m\u001b[0m\n\u001b[0;32m---> 41\u001b[0;31m             raise ImportError(\"This example needs Graphviz and either \"\n\u001b[0m\u001b[1;32m     42\u001b[0m                               \"PyGraphviz or PyDotPlus\")\n\u001b[1;32m     43\u001b[0m \u001b[0;34m\u001b[0m\u001b[0m\n",
      "\u001b[0;31mImportError\u001b[0m: This example needs Graphviz and either PyGraphviz or PyDotPlus"
     ]
    }
   ],
   "source": [
    "\n",
    "\n",
    "def lanl_graph():\n",
    "    \"\"\" Return the lanl internet view graph from lanl.edges\n",
    "    \"\"\"\n",
    "    import networkx as nx\n",
    "    try:\n",
    "        fh = open('lanl_routes.edgelist' , 'r')\n",
    "    except IOError:\n",
    "        print(\"lanl.edges not found\")\n",
    "        raise\n",
    "\n",
    "    G = nx.Graph()\n",
    "\n",
    "    time = {}\n",
    "    time[0] = 0 # assign 0 to center node\n",
    "    for line in fh.readlines():\n",
    "        (head, tail, rtt) = line.split()\n",
    "        G.add_edge(int(head), int(tail))\n",
    "        time[int(head)] = float(rtt)\n",
    "\n",
    "    # get largest component and assign ping times to G0time dictionary\n",
    "    G0 = sorted(nx.connected_component_subgraphs(G), key = len, reverse=True)[0]\n",
    "    G0.rtt = {}\n",
    "    for n in G0:\n",
    "        G0.rtt[n] = time[n]\n",
    "\n",
    "    return G0\n",
    "\n",
    "if __name__ == '__main__':\n",
    "    import networkx as nx\n",
    "    import math\n",
    "    try:\n",
    "        import pygraphviz\n",
    "        from networkx.drawing.nx_agraph import graphviz_layout\n",
    "    except ImportError:\n",
    "        try:\n",
    "            import pydotplus\n",
    "            from networkx.drawing.nx_pydot import graphviz_layout\n",
    "        except ImportError:\n",
    "            raise ImportError(\"This example needs Graphviz and either \"\n",
    "                              \"PyGraphviz or PyDotPlus\")\n",
    "\n",
    "    G=lanl_graph()\n",
    "\n",
    "    print(\"graph has %d nodes with %d edges\"\\\n",
    "          %(nx.number_of_nodes(G), nx.number_of_edges(G)))\n",
    "    print(nx.number_connected_components(G), \"connected components\")\n",
    "\n",
    "    import matplotlib.pyplot as plt\n",
    "    plt.figure(figsize=(8, 8))\n",
    "    # use graphviz to find radial layout\n",
    "    pos = graphviz_layout(G, prog=\"twopi\", root=0)\n",
    "    # draw nodes, coloring by rtt ping time\n",
    "    nx.draw(G, pos,\n",
    "            node_color=[G.rtt[v] for v in G],\n",
    "            with_labels=False,\n",
    "            alpha=0.5,\n",
    "            node_size=15)\n",
    "    # adjust the plot limits\n",
    "    xmax = 1.02 * max(xx for xx,yy in pos.values())\n",
    "    ymax = 1.02 * max(yy for xx,yy in pos.values())\n",
    "    plt.xlim(0, xmax)\n",
    "    plt.ylim(0, ymax)\n",
    "    plt.savefig(\"lanl_routes.png\")"
   ]
  },
  {
   "cell_type": "code",
   "execution_count": null,
   "metadata": {
    "collapsed": true
   },
   "outputs": [],
   "source": []
  }
 ],
 "metadata": {
  "anaconda-cloud": {},
  "kernelspec": {
   "display_name": "Python [Root]",
   "language": "python",
   "name": "Python [Root]"
  },
  "language_info": {
   "codemirror_mode": {
    "name": "ipython",
    "version": 2
   },
   "file_extension": ".py",
   "mimetype": "text/x-python",
   "name": "python",
   "nbconvert_exporter": "python",
   "pygments_lexer": "ipython2",
   "version": "2.7.12"
  }
 },
 "nbformat": 4,
 "nbformat_minor": 0
}
