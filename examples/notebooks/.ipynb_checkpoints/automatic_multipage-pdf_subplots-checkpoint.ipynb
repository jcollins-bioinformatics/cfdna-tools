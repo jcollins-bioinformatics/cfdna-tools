{
 "cells": [
  {
   "cell_type": "code",
   "execution_count": 1,
   "metadata": {
    "collapsed": false
   },
   "outputs": [
    {
     "name": "stdout",
     "output_type": "stream",
     "text": [
      "1.73126387596\n"
     ]
    },
    {
     "data": {
      "image/png": "[encoded data removed]",
      "text/plain": [
       "<matplotlib.figure.Figure at 0x1105b3850>"
      ]
     },
     "metadata": {},
     "output_type": "display_data"
    }
   ],
   "source": [
    "%matplotlib inline\n",
    "\n",
    "from __future__ import print_function\n",
    "import matplotlib\n",
    "import matplotlib.pyplot as plt\n",
    "import numpy as np\n",
    "import random\n",
    "import seaborn as sns\n",
    "import sys\n",
    "import timeit\n",
    "from matplotlib.backends.backend_pdf import PdfPages\n",
    "matplotlib.rcParams.update({'font.size': 5})\n",
    "\n",
    "# Dimensions for any n-rows x m-cols array of subplots / pg.\n",
    "n, m = 4, 6\n",
    "ctheme= [(0.725467917633003, 0.10980392156862745, 0.2196078431372549), '#1e488f', \n",
    "          '#be03fd', (0.44313725490196076, 0.44313725490196076, 0.88627450980392153),\n",
    "          '#75bbfd', '#48E4BA', '#C4E448', '#f1da7a',  '#fac205', \n",
    "          (0.66666666666666674, 0.66666666666666663, 0.29078014184397138)]\n",
    "colors = sns.blend_palette(ctheme, 20)\n",
    "\n",
    "# Don't forget to indent after the with statement\n",
    "with PdfPages('auto_subplotting_colors_170321.pdf') as pdf:\n",
    "\n",
    "    # Let's time the execution required to create and save \n",
    "    # each full page of subplots to the pdf\n",
    "    start_time = timeit.default_timer()\n",
    "\n",
    "    # Before beginning the iteration through all the data, \n",
    "    # initialize the layout for the plots and create a \n",
    "    # representation of the subplots that can be easily \n",
    "    # iterated over for knowing when to create the next page\n",
    "    # (and also for custom settings like partial axes labels)\n",
    "    f, axarr = plt.subplots(n, m, sharex='col', sharey='row')\n",
    "    arr_ij = [(x,y) for x,y in np.ndindex(axarr.shape)]\n",
    "    subplots = [axarr[index] for index in arr_ij]\n",
    "\n",
    "    # To conserve needed plotting real estate, \n",
    "    # only label the bottom row and leftmost subplots \n",
    "    # as determined automatically using n and m\n",
    "    splot_index = 0  \n",
    "    for s,splot in enumerate(subplots):\n",
    "        splot.grid(b=True, which='major', color='gray', linestyle='-', \n",
    "                   alpha=0.25, zorder=1, lw=0.5)\n",
    "        splot.set_ylim(0,.15)\n",
    "        splot.set_xlim(0,50)\n",
    "        last_row = ( n*m-s < m+1 )\n",
    "        first_in_row = ( s % m == 0 )\n",
    "        if last_row:\n",
    "            splot.set_xlabel(\"X-axis label\")\n",
    "        if first_in_row:\n",
    "            splot.set_ylabel(\"Y-axis label\")\n",
    "\n",
    "    # Iterate through each sample in the data \n",
    "    for sample in range(33):\n",
    "            \n",
    "        # Keep subplotting through the samples in the data and increment\n",
    "        # a counter each time. The page will be full once the count is equal\n",
    "        # to the product of the user-set dimensions (i.e. n * m)\n",
    "        splot = subplots[splot_index]\n",
    "        splot_index += 1\n",
    "\n",
    "        # As a stand in for real data, let's just take 100 random draws\n",
    "        # from a possion distribution centered around ~25 and then display\n",
    "        # the distribution as a histogram\n",
    "        scaled_y = np.random.randint(20,30)\n",
    "        random_data = np.random.poisson(scaled_y, 100)\n",
    "        splot.hist(random_data, bins=12, normed=True, zorder=2, alpha=0.99,\n",
    "                   fc='white', lw=0.75, ec=random.choice(colors)) \n",
    "        \n",
    "        splot.set_title(\"Sample {}\".format(sample))\n",
    "        splot.yaxis.set_ticks_position('none')\n",
    "        splot.xaxis.set_ticks_position('none')\n",
    "    \n",
    "        # We can basically repeat the same exact code block used for the \n",
    "        # first layout initialization, but with the addition of three new lines:\n",
    "        # 2 for saving the just-finished page to the pdf, and one more to \n",
    "        # reset the subplot index \n",
    "        if splot_index == n*m:\n",
    "            pdf.savefig()\n",
    "            plt.close(f)\n",
    "            print(timeit.default_timer()-start_time)\n",
    "            start_time = timeit.default_timer()\n",
    "            f, axarr = plt.subplots(n, m, sharex='col', sharey='row')\n",
    "            arr_ij = [(x,y) for x,y in np.ndindex(axarr.shape)]\n",
    "            subplots = [axarr[index] for index in arr_ij]\n",
    "            splot_index = 0\n",
    "            for s,splot in enumerate(subplots):\n",
    "                splot.grid(b=True, which='major', color='gray', linestyle='-', \n",
    "                           alpha=0.25, zorder=1, lw=0.5)\n",
    "                splot.set_ylim(0,.15)\n",
    "                splot.set_xlim(0,50)\n",
    "                last_row = ( (n*m)-s < m+1 )\n",
    "                first_in_row = ( s % m == 0 ) \n",
    "                if last_row:\n",
    "                    splot.set_xlabel(\"X-axis label\")\n",
    "                if first_in_row:\n",
    "                    splot.set_ylabel(\"Y-axis label\")\n",
    "\n",
    "    # Done!    \n",
    "    # But don't forget the last page\n",
    "#     pdf.savefig()\n",
    "    plt.show()\n",
    "    plt.close(f)\n",
    "\n",
    "\n",
    "        \n",
    "        "
   ]
  },
  {
   "cell_type": "code",
   "execution_count": null,
   "metadata": {
    "collapsed": true
   },
   "outputs": [],
   "source": []
  }
 ],
 "metadata": {
  "anaconda-cloud": {},
  "kernelspec": {
   "display_name": "Python 2",
   "language": "python",
   "name": "python2"
  },
  "language_info": {
   "codemirror_mode": {
    "name": "ipython",
    "version": 2
   },
   "file_extension": ".py",
   "mimetype": "text/x-python",
   "name": "python",
   "nbconvert_exporter": "python",
   "pygments_lexer": "ipython2",
   "version": "2.7.13"
  }
 },
 "nbformat": 4,
 "nbformat_minor": 0
}
