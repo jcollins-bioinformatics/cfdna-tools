{
 "cells": [
  {
   "cell_type": "code",
   "execution_count": 1,
   "metadata": {
    "collapsed": false
   },
   "outputs": [
    {
     "name": "stderr",
     "output_type": "stream",
     "text": [
      "/Users/Quaesiveris/Python/anaconda2/lib/python2.7/site-packages/matplotlib/font_manager.py:273: UserWarning: Matplotlib is building the font cache using fc-list. This may take a moment.\n",
      "  warnings.warn('Matplotlib is building the font cache using fc-list. This may take a moment.')\n"
     ]
    }
   ],
   "source": [
    "import matplotlib\n",
    "import matplotlib.pyplot as plt\n",
    "import numpy as np\n",
    "import timeit\n",
    "from matplotlib.backends.backend_pdf import PdfPages"
   ]
  },
  {
   "cell_type": "code",
   "execution_count": 49,
   "metadata": {
    "collapsed": false
   },
   "outputs": [
    {
     "ename": "KeyError",
     "evalue": "'sns'",
     "output_type": "error",
     "traceback": [
      "\u001b[0;31m---------------------------------------------------------------------------\u001b[0m",
      "\u001b[0;31mKeyError\u001b[0m                                  Traceback (most recent call last)",
      "\u001b[0;32m<ipython-input-49-765e667ba5ff>\u001b[0m in \u001b[0;36m<module>\u001b[0;34m()\u001b[0m\n\u001b[1;32m      1\u001b[0m \u001b[0;32mimport\u001b[0m \u001b[0msys\u001b[0m\u001b[0;34m\u001b[0m\u001b[0m\n\u001b[0;32m----> 2\u001b[0;31m \u001b[0;32mdel\u001b[0m \u001b[0msys\u001b[0m\u001b[0;34m.\u001b[0m\u001b[0mmodules\u001b[0m\u001b[0;34m[\u001b[0m\u001b[0;34m'sns'\u001b[0m\u001b[0;34m]\u001b[0m\u001b[0;34m\u001b[0m\u001b[0m\n\u001b[0m",
      "\u001b[0;31mKeyError\u001b[0m: 'sns'"
     ]
    }
   ],
   "source": [
    "# import sys \n",
    "# del sys.modules['sns']"
   ]
  },
  {
   "cell_type": "code",
   "execution_count": 55,
   "metadata": {
    "collapsed": false
   },
   "outputs": [
    {
     "name": "stdout",
     "output_type": "stream",
     "text": [
      "1.81540203094\n"
     ]
    }
   ],
   "source": [
    "%matplotlib inline\n",
    "\n",
    "    import matplotlib\n",
    "    import matplotlib.pyplot as plt\n",
    "    import numpy as np\n",
    "    import sys\n",
    "    import timeit\n",
    "    from matplotlib.backends.backend_pdf import PdfPages\n",
    "    matplotlib.rcParams.update({'font.size': 6})\n",
    "\n",
    "    # Dimensions for any n-rows x m-cols array of subplots / pg.\n",
    "    n, m = 4, 5\n",
    "\n",
    "    # Don't forget to indent after the with statement\n",
    "    with PdfPages('auto_subplotting.pdf') as pdf:\n",
    "\n",
    "        # Let's time the execution required to create and save \n",
    "        # each full page of subplots to the pdf\n",
    "        start_time = timeit.default_timer()\n",
    "\n",
    "        # Before beginning the iteration through all the data, \n",
    "        # initialize the layout for the plots and create a \n",
    "        # representation of the subplots that can be easily \n",
    "        # iterated over for knowing when to create the next page\n",
    "        # (and also for custom settings like partial axes labels)\n",
    "        f, axarr = plt.subplots(n, m, sharex='col', sharey='row')\n",
    "        arr_ij = [(x,y) for x,y in np.ndindex(axarr.shape)]\n",
    "        subplots = [axarr[index] for index in arr_ij]\n",
    "\n",
    "        # To conserve needed plotting real estate, \n",
    "        # only label the bottom row and leftmost subplots \n",
    "        # as determined automatically using n and m\n",
    "        splot_index = 0  \n",
    "        for s,splot in enumerate(subplots):\n",
    "            splot.set_ylim(0,.15)\n",
    "            splot.set_xlim(0,50)\n",
    "            last_row = ( n*m-s < m+1 )\n",
    "            first_in_row = ( s % m == 0 )\n",
    "            if last_row:\n",
    "                splot.set_xlabel(\"X-axis label\")\n",
    "            if first_in_row:\n",
    "                splot.set_ylabel(\"Y-axis label\")\n",
    "\n",
    "        # Iterate through each sample in the data \n",
    "        for sample in range(33):\n",
    "\n",
    "            # As a stand in for real data, let's just take 100 random draws\n",
    "            # from a possion distribution centered around ~25 and then display\n",
    "            # the distribution as a histogram\n",
    "            scaled_y = np.random.randint(20,30)\n",
    "            random_data = np.random.poisson(scaled_y, 100)\n",
    "            subplots[splot_index].hist(random_data, bins=12, normed=True,\n",
    "                                       fc=(0,0,0,0), lw=0.75, ec='b') \n",
    "\n",
    "            # Keep subplotting through the samples in the data and increment\n",
    "            # a counter each time. The page will be full once the count is equal\n",
    "            # to the product of the user-set dimensions (i.e. n * m)\n",
    "            splot_index += 1\n",
    "\n",
    "            # We can basically repeat the same exact code block used for the \n",
    "            # first layout initialization, but with the addition of three new lines:\n",
    "            # 2 for saving the just-finished page to the pdf, and one more to \n",
    "            # reset the subplot index \n",
    "            if splot_index == n*m:\n",
    "                pdf.savefig()\n",
    "                plt.close(f)\n",
    "                print(timeit.default_timer()-start_time)\n",
    "                start_time = timeit.default_timer()\n",
    "                f, axarr = plt.subplots(n, m, sharex='col', sharey='row')\n",
    "                arr_ij = [(x,y) for x,y in np.ndindex(axarr.shape)]\n",
    "                subplots = [axarr[index] for index in arr_ij]\n",
    "                splot_index = 0\n",
    "                for s,splot in enumerate(subplots):\n",
    "                    splot.set_ylim(0,.15)\n",
    "                    splot.set_xlim(0,50)\n",
    "                    last_row = ( (n*m)-s < m+1 )\n",
    "                    first_in_row = ( s % m == 0 ) \n",
    "                    if last_row:\n",
    "                        splot.set_xlabel(\"X-axis label\")\n",
    "                    if first_in_row:\n",
    "                        splot.set_ylabel(\"Y-axis label\")\n",
    "\n",
    "        # Done!    \n",
    "        # But don't forget the last page\n",
    "        pdf.savefig()\n",
    "        plt.close(f)\n",
    "\n",
    "\n",
    "        \n",
    "        "
   ]
  },
  {
   "cell_type": "code",
   "execution_count": null,
   "metadata": {
    "collapsed": true
   },
   "outputs": [],
   "source": []
  }
 ],
 "metadata": {
  "anaconda-cloud": {},
  "kernelspec": {
   "display_name": "Python [Root]",
   "language": "python",
   "name": "Python [Root]"
  },
  "language_info": {
   "codemirror_mode": {
    "name": "ipython",
    "version": 2
   },
   "file_extension": ".py",
   "mimetype": "text/x-python",
   "name": "python",
   "nbconvert_exporter": "python",
   "pygments_lexer": "ipython2",
   "version": "2.7.12"
  }
 },
 "nbformat": 4,
 "nbformat_minor": 0
}
