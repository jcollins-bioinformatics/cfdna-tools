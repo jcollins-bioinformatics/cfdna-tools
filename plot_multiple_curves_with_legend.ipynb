{
 "cells": [
  {
   "cell_type": "code",
   "execution_count": null,
   "metadata": {
    "collapsed": true
   },
   "outputs": [],
   "source": [
    "%matplotlib inline\n",
    "from matplotlib.backends.backend_pdf import PdfPages\n",
    "import matplotlib.pyplot as plt\n",
    "import numpy as np"
   ]
  },
  {
   "cell_type": "code",
   "execution_count": 26,
   "metadata": {
    "collapsed": false
   },
   "outputs": [],
   "source": [
    "colors = ['fuchsia', 'r', 'orange', 'gold', 'g', 'b', 'indigo']\n",
    "\n",
    "x_values = np.linspace(-2, 2, 100)\n",
    "\n",
    "curves_list = []\n",
    "for k in range(2,9):\n",
    "    curves_list.append([x_values, np.array([x**k for x in x_values])])\n",
    "with PdfPages('curves_with_legend.pdf') as pdf:\n",
    "    fig = plt.figure()\n",
    "    plt.xlim(-1, 1)\n",
    "    plt.ylim(-1, 1)\n",
    "    for n,curve in enumerate(curves_list):\n",
    "        x = curve[0]\n",
    "        y = curve[1]\n",
    "        plt.plot(x, y, color=colors.pop(), label=\"$y=x^{}$\".format(n+2))\n",
    "\n",
    "\n",
    "    lgd = plt.legend(loc='upper left', prop={'size':10, 'weight':'bold'}, frameon=False, bbox_to_anchor=(1,1))\n",
    "#     plt.show()\n",
    "#     fig.tight_layout()\n",
    "    pdf.savefig(bbox_extra_artists=(lgd,), bbox_inches='tight')\n",
    "    plt.close(fig)"
   ]
  },
  {
   "cell_type": "markdown",
   "metadata": {},
   "source": [
    "######"
   ]
  },
  {
   "cell_type": "code",
   "execution_count": 27,
   "metadata": {
    "collapsed": false
   },
   "outputs": [
    {
     "ename": "SyntaxError",
     "evalue": "invalid syntax (<ipython-input-27-cebb26afe248>, line 1)",
     "output_type": "error",
     "traceback": [
      "\u001b[0;36m  File \u001b[0;32m\"<ipython-input-27-cebb26afe248>\"\u001b[0;36m, line \u001b[0;32m1\u001b[0m\n\u001b[0;31m    mport matplotlib.pyplot as plt\u001b[0m\n\u001b[0m                   ^\u001b[0m\n\u001b[0;31mSyntaxError\u001b[0m\u001b[0;31m:\u001b[0m invalid syntax\n"
     ]
    }
   ],
   "source": [
    "mport matplotlib.pyplot as plt\n",
    "\n",
    "data = [[0, 0.25], [0.5, 0.75]]\n",
    "\n",
    "fig, ax = plt.subplots()\n",
    "im = ax.imshow(data, cmap=plt.get_cmap('hot'), interpolation='nearest',\n",
    "               vmin=0, vmax=1)\n",
    "fig.colorbar(im)\n",
    "plt.show()"
   ]
  },
  {
   "cell_type": "code",
   "execution_count": null,
   "metadata": {
    "collapsed": true
   },
   "outputs": [],
   "source": []
  }
 ],
 "metadata": {
  "kernelspec": {
   "display_name": "Python [Root]",
   "language": "python",
   "name": "Python [Root]"
  },
  "language_info": {
   "codemirror_mode": {
    "name": "ipython",
    "version": 2
   },
   "file_extension": ".py",
   "mimetype": "text/x-python",
   "name": "python",
   "nbconvert_exporter": "python",
   "pygments_lexer": "ipython2",
   "version": "2.7.12"
  }
 },
 "nbformat": 4,
 "nbformat_minor": 0
}
